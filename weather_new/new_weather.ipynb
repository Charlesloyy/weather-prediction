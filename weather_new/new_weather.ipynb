{
 "cells": [
  {
   "cell_type": "code",
   "execution_count": 1,
   "metadata": {},
   "outputs": [],
   "source": [
    "import pandas as pd\n",
    "import seaborn as sns\n",
    "import numpy as np \n",
    "import matplotlib.pyplot as plt\n",
    "%matplotlib inline\n"
   ]
  },
  {
   "cell_type": "code",
   "execution_count": 2,
   "metadata": {},
   "outputs": [],
   "source": [
    "df = pd.read_csv('seattle-weather.csv')"
   ]
  },
  {
   "cell_type": "code",
   "execution_count": 6,
   "metadata": {},
   "outputs": [
    {
     "name": "stdout",
     "output_type": "stream",
     "text": [
      "<class 'pandas.core.frame.DataFrame'>\n",
      "RangeIndex: 1461 entries, 0 to 1460\n",
      "Data columns (total 6 columns):\n",
      " #   Column         Non-Null Count  Dtype         \n",
      "---  ------         --------------  -----         \n",
      " 0   date           1461 non-null   datetime64[ns]\n",
      " 1   precipitation  1461 non-null   float64       \n",
      " 2   temp_max       1461 non-null   float64       \n",
      " 3   temp_min       1461 non-null   float64       \n",
      " 4   wind           1461 non-null   float64       \n",
      " 5   weather        1461 non-null   object        \n",
      "dtypes: datetime64[ns](1), float64(4), object(1)\n",
      "memory usage: 68.6+ KB\n"
     ]
    }
   ],
   "source": [
    "df.info()"
   ]
  },
  {
   "cell_type": "code",
   "execution_count": 5,
   "metadata": {},
   "outputs": [],
   "source": [
    "df[\"date\"] = pd.to_datetime(df[\"date\"])"
   ]
  },
  {
   "cell_type": "code",
   "execution_count": 12,
   "metadata": {},
   "outputs": [
    {
     "data": {
      "text/html": [
       "<div>\n",
       "<style scoped>\n",
       "    .dataframe tbody tr th:only-of-type {\n",
       "        vertical-align: middle;\n",
       "    }\n",
       "\n",
       "    .dataframe tbody tr th {\n",
       "        vertical-align: top;\n",
       "    }\n",
       "\n",
       "    .dataframe thead th {\n",
       "        text-align: right;\n",
       "    }\n",
       "</style>\n",
       "<table border=\"1\" class=\"dataframe\">\n",
       "  <thead>\n",
       "    <tr style=\"text-align: right;\">\n",
       "      <th></th>\n",
       "      <th>date</th>\n",
       "      <th>precipitation</th>\n",
       "      <th>temp_max</th>\n",
       "      <th>temp_min</th>\n",
       "      <th>wind</th>\n",
       "      <th>weather</th>\n",
       "      <th>days</th>\n",
       "      <th>month</th>\n",
       "      <th>year</th>\n",
       "    </tr>\n",
       "  </thead>\n",
       "  <tbody>\n",
       "    <tr>\n",
       "      <th>0</th>\n",
       "      <td>2012-01-01</td>\n",
       "      <td>0.0</td>\n",
       "      <td>12.8</td>\n",
       "      <td>5.0</td>\n",
       "      <td>4.7</td>\n",
       "      <td>drizzle</td>\n",
       "      <td>1</td>\n",
       "      <td>1</td>\n",
       "      <td>2012</td>\n",
       "    </tr>\n",
       "    <tr>\n",
       "      <th>1</th>\n",
       "      <td>2012-01-02</td>\n",
       "      <td>10.9</td>\n",
       "      <td>10.6</td>\n",
       "      <td>2.8</td>\n",
       "      <td>4.5</td>\n",
       "      <td>rain</td>\n",
       "      <td>2</td>\n",
       "      <td>1</td>\n",
       "      <td>2012</td>\n",
       "    </tr>\n",
       "    <tr>\n",
       "      <th>2</th>\n",
       "      <td>2012-01-03</td>\n",
       "      <td>0.8</td>\n",
       "      <td>11.7</td>\n",
       "      <td>7.2</td>\n",
       "      <td>2.3</td>\n",
       "      <td>rain</td>\n",
       "      <td>3</td>\n",
       "      <td>1</td>\n",
       "      <td>2012</td>\n",
       "    </tr>\n",
       "    <tr>\n",
       "      <th>3</th>\n",
       "      <td>2012-01-04</td>\n",
       "      <td>20.3</td>\n",
       "      <td>12.2</td>\n",
       "      <td>5.6</td>\n",
       "      <td>4.7</td>\n",
       "      <td>rain</td>\n",
       "      <td>4</td>\n",
       "      <td>1</td>\n",
       "      <td>2012</td>\n",
       "    </tr>\n",
       "    <tr>\n",
       "      <th>4</th>\n",
       "      <td>2012-01-05</td>\n",
       "      <td>1.3</td>\n",
       "      <td>8.9</td>\n",
       "      <td>2.8</td>\n",
       "      <td>6.1</td>\n",
       "      <td>rain</td>\n",
       "      <td>5</td>\n",
       "      <td>1</td>\n",
       "      <td>2012</td>\n",
       "    </tr>\n",
       "  </tbody>\n",
       "</table>\n",
       "</div>"
      ],
      "text/plain": [
       "        date  precipitation  temp_max  temp_min  wind  weather  days  month  \\\n",
       "0 2012-01-01            0.0      12.8       5.0   4.7  drizzle     1      1   \n",
       "1 2012-01-02           10.9      10.6       2.8   4.5     rain     2      1   \n",
       "2 2012-01-03            0.8      11.7       7.2   2.3     rain     3      1   \n",
       "3 2012-01-04           20.3      12.2       5.6   4.7     rain     4      1   \n",
       "4 2012-01-05            1.3       8.9       2.8   6.1     rain     5      1   \n",
       "\n",
       "   year  \n",
       "0  2012  \n",
       "1  2012  \n",
       "2  2012  \n",
       "3  2012  \n",
       "4  2012  "
      ]
     },
     "execution_count": 12,
     "metadata": {},
     "output_type": "execute_result"
    }
   ],
   "source": [
    "df['days'] = df[\"date\"].dt.day\n",
    "df['month'] = df[\"date\"].dt.month\n",
    "df['year'] = df[\"date\"].dt.year\n",
    "df.head()"
   ]
  },
  {
   "cell_type": "code",
   "execution_count": 20,
   "metadata": {},
   "outputs": [],
   "source": [
    "X = df.drop([\"weather\", \"date\"], axis=1)\n",
    "y = df[\"weather\"]"
   ]
  },
  {
   "cell_type": "code",
   "execution_count": 9,
   "metadata": {},
   "outputs": [],
   "source": [
    "from sklearn.preprocessing import LabelEncoder, MinMaxScaler"
   ]
  },
  {
   "cell_type": "code",
   "execution_count": 10,
   "metadata": {},
   "outputs": [],
   "source": [
    "label = LabelEncoder()\n",
    "scale = MinMaxScaler()"
   ]
  },
  {
   "cell_type": "code",
   "execution_count": 23,
   "metadata": {},
   "outputs": [],
   "source": [
    "y = label.fit_transform(y)"
   ]
  },
  {
   "cell_type": "code",
   "execution_count": 24,
   "metadata": {},
   "outputs": [
    {
     "data": {
      "text/plain": [
       "array([0, 2, 2, ..., 1, 4, 4])"
      ]
     },
     "execution_count": 24,
     "metadata": {},
     "output_type": "execute_result"
    }
   ],
   "source": [
    "y"
   ]
  },
  {
   "cell_type": "code",
   "execution_count": 25,
   "metadata": {},
   "outputs": [],
   "source": [
    "from sklearn.model_selection import train_test_split\n",
    "X_train, X_test, y_train, y_test = train_test_split(X, y, test_size=0.33, random_state=42)"
   ]
  },
  {
   "cell_type": "code",
   "execution_count": 26,
   "metadata": {},
   "outputs": [],
   "source": [
    "X_test = scale.fit_transform(X_test)\n",
    "X_train = scale.fit_transform(X_train)"
   ]
  },
  {
   "cell_type": "code",
   "execution_count": 29,
   "metadata": {},
   "outputs": [
    {
     "data": {
      "text/plain": [
       "array([[0.49552773, 0.58064516, 0.89370079, ..., 0.13333333, 0.72727273,\n",
       "        0.33333333],\n",
       "       [0.        , 0.66935484, 0.75984252, ..., 0.86666667, 0.54545455,\n",
       "        1.        ],\n",
       "       [0.        , 0.53494624, 0.40944882, ..., 0.        , 0.36363636,\n",
       "        0.33333333],\n",
       "       ...,\n",
       "       [0.00894454, 0.46236559, 0.56299213, ..., 0.3       , 0.36363636,\n",
       "        0.66666667],\n",
       "       [0.        , 0.19354839, 0.24015748, ..., 0.96666667, 1.        ,\n",
       "        1.        ],\n",
       "       [0.        , 0.23655914, 0.40944882, ..., 1.        , 0.        ,\n",
       "        1.        ]])"
      ]
     },
     "execution_count": 29,
     "metadata": {},
     "output_type": "execute_result"
    }
   ],
   "source": [
    "X_train"
   ]
  },
  {
   "cell_type": "code",
   "execution_count": 35,
   "metadata": {},
   "outputs": [
    {
     "name": "stdout",
     "output_type": "stream",
     "text": [
      "Epoch 1/100\n",
      "31/31 [==============================] - 2s 4ms/step - loss: 1.3169 - accuracy: 0.4346\n",
      "Epoch 2/100\n",
      "31/31 [==============================] - 0s 4ms/step - loss: 1.0808 - accuracy: 0.5920\n",
      "Epoch 3/100\n",
      "31/31 [==============================] - 0s 5ms/step - loss: 1.0336 - accuracy: 0.6207\n",
      "Epoch 4/100\n",
      "31/31 [==============================] - 0s 4ms/step - loss: 0.9848 - accuracy: 0.6339\n",
      "Epoch 5/100\n",
      "31/31 [==============================] - 0s 4ms/step - loss: 0.9403 - accuracy: 0.6411\n",
      "Epoch 6/100\n",
      "31/31 [==============================] - 0s 4ms/step - loss: 0.9019 - accuracy: 0.6616\n",
      "Epoch 7/100\n",
      "31/31 [==============================] - 0s 4ms/step - loss: 0.8701 - accuracy: 0.6769\n",
      "Epoch 8/100\n",
      "31/31 [==============================] - 0s 5ms/step - loss: 0.8405 - accuracy: 0.6943\n",
      "Epoch 9/100\n",
      "31/31 [==============================] - 0s 4ms/step - loss: 0.8115 - accuracy: 0.7157\n",
      "Epoch 10/100\n",
      "31/31 [==============================] - 0s 5ms/step - loss: 0.7846 - accuracy: 0.7311\n",
      "Epoch 11/100\n",
      "31/31 [==============================] - 0s 5ms/step - loss: 0.7574 - accuracy: 0.7495\n",
      "Epoch 12/100\n",
      "31/31 [==============================] - 0s 6ms/step - loss: 0.7399 - accuracy: 0.7505\n",
      "Epoch 13/100\n",
      "31/31 [==============================] - 0s 6ms/step - loss: 0.7162 - accuracy: 0.7638\n",
      "Epoch 14/100\n",
      "31/31 [==============================] - 0s 4ms/step - loss: 0.7020 - accuracy: 0.7669\n",
      "Epoch 15/100\n",
      "31/31 [==============================] - 0s 5ms/step - loss: 0.6851 - accuracy: 0.7658\n",
      "Epoch 16/100\n",
      "31/31 [==============================] - 0s 6ms/step - loss: 0.6846 - accuracy: 0.7587\n",
      "Epoch 17/100\n",
      "31/31 [==============================] - 0s 5ms/step - loss: 0.6682 - accuracy: 0.7638\n",
      "Epoch 18/100\n",
      "31/31 [==============================] - 0s 6ms/step - loss: 0.6481 - accuracy: 0.7822\n",
      "Epoch 19/100\n",
      "31/31 [==============================] - 0s 7ms/step - loss: 0.6460 - accuracy: 0.7751\n",
      "Epoch 20/100\n",
      "31/31 [==============================] - 0s 5ms/step - loss: 0.6353 - accuracy: 0.7904\n",
      "Epoch 21/100\n",
      "31/31 [==============================] - 0s 6ms/step - loss: 0.6221 - accuracy: 0.7771\n",
      "Epoch 22/100\n",
      "31/31 [==============================] - 0s 5ms/step - loss: 0.6242 - accuracy: 0.7771\n",
      "Epoch 23/100\n",
      "31/31 [==============================] - 0s 5ms/step - loss: 0.6115 - accuracy: 0.7802\n",
      "Epoch 24/100\n",
      "31/31 [==============================] - 0s 5ms/step - loss: 0.6097 - accuracy: 0.7843\n",
      "Epoch 25/100\n",
      "31/31 [==============================] - 0s 6ms/step - loss: 0.6058 - accuracy: 0.7853\n",
      "Epoch 26/100\n",
      "31/31 [==============================] - 0s 10ms/step - loss: 0.6007 - accuracy: 0.7863\n",
      "Epoch 27/100\n",
      "31/31 [==============================] - 0s 8ms/step - loss: 0.5902 - accuracy: 0.7873\n",
      "Epoch 28/100\n",
      "31/31 [==============================] - 0s 6ms/step - loss: 0.5886 - accuracy: 0.7904\n",
      "Epoch 29/100\n",
      "31/31 [==============================] - 0s 5ms/step - loss: 0.5805 - accuracy: 0.7965\n",
      "Epoch 30/100\n",
      "31/31 [==============================] - 0s 5ms/step - loss: 0.5801 - accuracy: 0.7975\n",
      "Epoch 31/100\n",
      "31/31 [==============================] - 0s 6ms/step - loss: 0.5793 - accuracy: 0.7873\n",
      "Epoch 32/100\n",
      "31/31 [==============================] - 0s 6ms/step - loss: 0.5716 - accuracy: 0.7986\n",
      "Epoch 33/100\n",
      "31/31 [==============================] - 0s 5ms/step - loss: 0.5719 - accuracy: 0.7924\n",
      "Epoch 34/100\n",
      "31/31 [==============================] - 0s 4ms/step - loss: 0.5626 - accuracy: 0.8006\n",
      "Epoch 35/100\n",
      "31/31 [==============================] - 0s 5ms/step - loss: 0.5691 - accuracy: 0.7975\n",
      "Epoch 36/100\n",
      "31/31 [==============================] - 0s 5ms/step - loss: 0.5692 - accuracy: 0.7883\n",
      "Epoch 37/100\n",
      "31/31 [==============================] - 0s 5ms/step - loss: 0.5580 - accuracy: 0.8027\n",
      "Epoch 38/100\n",
      "31/31 [==============================] - 0s 10ms/step - loss: 0.5487 - accuracy: 0.8027\n",
      "Epoch 39/100\n",
      "31/31 [==============================] - 0s 7ms/step - loss: 0.5453 - accuracy: 0.8027\n",
      "Epoch 40/100\n",
      "31/31 [==============================] - 0s 4ms/step - loss: 0.5482 - accuracy: 0.8016\n",
      "Epoch 41/100\n",
      "31/31 [==============================] - 0s 4ms/step - loss: 0.5505 - accuracy: 0.8006\n",
      "Epoch 42/100\n",
      "31/31 [==============================] - 0s 4ms/step - loss: 0.5366 - accuracy: 0.8067\n",
      "Epoch 43/100\n",
      "31/31 [==============================] - 0s 4ms/step - loss: 0.5456 - accuracy: 0.8006\n",
      "Epoch 44/100\n",
      "31/31 [==============================] - 0s 5ms/step - loss: 0.5328 - accuracy: 0.8078\n",
      "Epoch 45/100\n",
      "31/31 [==============================] - 0s 6ms/step - loss: 0.5368 - accuracy: 0.8098\n",
      "Epoch 46/100\n",
      "31/31 [==============================] - 0s 3ms/step - loss: 0.5279 - accuracy: 0.8139\n",
      "Epoch 47/100\n",
      "31/31 [==============================] - 0s 3ms/step - loss: 0.5340 - accuracy: 0.8119\n",
      "Epoch 48/100\n",
      "31/31 [==============================] - 0s 4ms/step - loss: 0.5238 - accuracy: 0.8119\n",
      "Epoch 49/100\n",
      "31/31 [==============================] - 0s 5ms/step - loss: 0.5219 - accuracy: 0.8149\n",
      "Epoch 50/100\n",
      "31/31 [==============================] - 0s 4ms/step - loss: 0.5298 - accuracy: 0.8119\n",
      "Epoch 51/100\n",
      "31/31 [==============================] - 0s 5ms/step - loss: 0.5178 - accuracy: 0.8262\n",
      "Epoch 52/100\n",
      "31/31 [==============================] - 0s 8ms/step - loss: 0.5183 - accuracy: 0.8088\n",
      "Epoch 53/100\n",
      "31/31 [==============================] - 0s 5ms/step - loss: 0.5135 - accuracy: 0.8180\n",
      "Epoch 54/100\n",
      "31/31 [==============================] - 0s 6ms/step - loss: 0.5133 - accuracy: 0.8221\n",
      "Epoch 55/100\n",
      "31/31 [==============================] - 0s 5ms/step - loss: 0.5133 - accuracy: 0.8160\n",
      "Epoch 56/100\n",
      "31/31 [==============================] - 0s 5ms/step - loss: 0.5122 - accuracy: 0.8231\n",
      "Epoch 57/100\n",
      "31/31 [==============================] - 0s 5ms/step - loss: 0.5047 - accuracy: 0.8211\n",
      "Epoch 58/100\n",
      "31/31 [==============================] - 0s 5ms/step - loss: 0.5047 - accuracy: 0.8211\n",
      "Epoch 59/100\n",
      "31/31 [==============================] - 0s 3ms/step - loss: 0.5015 - accuracy: 0.8252\n",
      "Epoch 60/100\n",
      "31/31 [==============================] - 0s 4ms/step - loss: 0.5036 - accuracy: 0.8221\n",
      "Epoch 61/100\n",
      "31/31 [==============================] - 0s 4ms/step - loss: 0.4999 - accuracy: 0.8180\n",
      "Epoch 62/100\n",
      "31/31 [==============================] - 0s 6ms/step - loss: 0.4975 - accuracy: 0.8262\n",
      "Epoch 63/100\n",
      "31/31 [==============================] - 0s 4ms/step - loss: 0.4925 - accuracy: 0.8262\n",
      "Epoch 64/100\n",
      "31/31 [==============================] - 0s 4ms/step - loss: 0.4942 - accuracy: 0.8282\n",
      "Epoch 65/100\n",
      "31/31 [==============================] - 0s 5ms/step - loss: 0.4898 - accuracy: 0.8292\n",
      "Epoch 66/100\n",
      "31/31 [==============================] - 0s 7ms/step - loss: 0.4923 - accuracy: 0.8252\n",
      "Epoch 67/100\n",
      "31/31 [==============================] - 0s 7ms/step - loss: 0.4927 - accuracy: 0.8292\n",
      "Epoch 68/100\n",
      "31/31 [==============================] - 0s 6ms/step - loss: 0.4901 - accuracy: 0.8252\n",
      "Epoch 69/100\n",
      "31/31 [==============================] - 0s 5ms/step - loss: 0.4840 - accuracy: 0.8282\n",
      "Epoch 70/100\n",
      "31/31 [==============================] - 0s 5ms/step - loss: 0.4940 - accuracy: 0.8221\n",
      "Epoch 71/100\n",
      "31/31 [==============================] - 0s 5ms/step - loss: 0.4913 - accuracy: 0.8272\n",
      "Epoch 72/100\n",
      "31/31 [==============================] - 0s 5ms/step - loss: 0.4803 - accuracy: 0.8292\n",
      "Epoch 73/100\n",
      "31/31 [==============================] - 0s 5ms/step - loss: 0.4835 - accuracy: 0.8323\n",
      "Epoch 74/100\n",
      "31/31 [==============================] - 0s 4ms/step - loss: 0.4763 - accuracy: 0.8364\n",
      "Epoch 75/100\n",
      "31/31 [==============================] - 0s 5ms/step - loss: 0.4741 - accuracy: 0.8354\n",
      "Epoch 76/100\n",
      "31/31 [==============================] - 0s 5ms/step - loss: 0.4787 - accuracy: 0.8303\n",
      "Epoch 77/100\n",
      "31/31 [==============================] - 0s 5ms/step - loss: 0.4764 - accuracy: 0.8282\n",
      "Epoch 78/100\n",
      "31/31 [==============================] - 0s 4ms/step - loss: 0.4831 - accuracy: 0.8303\n",
      "Epoch 79/100\n",
      "31/31 [==============================] - 0s 6ms/step - loss: 0.4699 - accuracy: 0.8374\n",
      "Epoch 80/100\n",
      "31/31 [==============================] - 0s 9ms/step - loss: 0.4649 - accuracy: 0.8384\n",
      "Epoch 81/100\n",
      "31/31 [==============================] - 0s 5ms/step - loss: 0.4641 - accuracy: 0.8364\n",
      "Epoch 82/100\n",
      "31/31 [==============================] - 0s 5ms/step - loss: 0.4663 - accuracy: 0.8323\n",
      "Epoch 83/100\n",
      "31/31 [==============================] - 0s 5ms/step - loss: 0.4634 - accuracy: 0.8415\n",
      "Epoch 84/100\n",
      "31/31 [==============================] - 0s 5ms/step - loss: 0.4630 - accuracy: 0.8323\n",
      "Epoch 85/100\n",
      "31/31 [==============================] - 0s 5ms/step - loss: 0.4648 - accuracy: 0.8384\n",
      "Epoch 86/100\n",
      "31/31 [==============================] - 0s 5ms/step - loss: 0.4553 - accuracy: 0.8405\n",
      "Epoch 87/100\n",
      "31/31 [==============================] - 0s 5ms/step - loss: 0.4674 - accuracy: 0.8374\n",
      "Epoch 88/100\n",
      "31/31 [==============================] - 0s 7ms/step - loss: 0.4562 - accuracy: 0.8425\n",
      "Epoch 89/100\n",
      "31/31 [==============================] - 0s 6ms/step - loss: 0.4602 - accuracy: 0.8344\n",
      "Epoch 90/100\n",
      "31/31 [==============================] - 0s 5ms/step - loss: 0.4511 - accuracy: 0.8425\n",
      "Epoch 91/100\n",
      "31/31 [==============================] - 0s 5ms/step - loss: 0.4496 - accuracy: 0.8446\n",
      "Epoch 92/100\n",
      "31/31 [==============================] - 0s 5ms/step - loss: 0.4555 - accuracy: 0.8384\n",
      "Epoch 93/100\n",
      "31/31 [==============================] - 0s 4ms/step - loss: 0.4459 - accuracy: 0.8425\n",
      "Epoch 94/100\n",
      "31/31 [==============================] - 0s 4ms/step - loss: 0.4439 - accuracy: 0.8476\n",
      "Epoch 95/100\n",
      "31/31 [==============================] - 0s 5ms/step - loss: 0.4479 - accuracy: 0.8446\n",
      "Epoch 96/100\n",
      "31/31 [==============================] - 0s 4ms/step - loss: 0.4420 - accuracy: 0.8476\n",
      "Epoch 97/100\n",
      "31/31 [==============================] - 0s 5ms/step - loss: 0.4640 - accuracy: 0.8374\n",
      "Epoch 98/100\n",
      "31/31 [==============================] - 0s 5ms/step - loss: 0.4476 - accuracy: 0.8425\n",
      "Epoch 99/100\n",
      "31/31 [==============================] - 0s 4ms/step - loss: 0.4409 - accuracy: 0.8446\n",
      "Epoch 100/100\n",
      "31/31 [==============================] - 0s 5ms/step - loss: 0.4408 - accuracy: 0.8446\n"
     ]
    },
    {
     "data": {
      "text/plain": [
       "<keras.callbacks.History at 0x2212de218a0>"
      ]
     },
     "execution_count": 35,
     "metadata": {},
     "output_type": "execute_result"
    }
   ],
   "source": [
    "import tensorflow as tf\n",
    "import keras\n",
    "\n",
    "\n",
    "model = keras.Sequential([\n",
    "    keras.layers.Dense(50, input_shape=(7,), activation='relu'),\n",
    "    keras.layers.Dense(50, activation='relu'),\n",
    "    keras.layers.Dense(5 ,activation='sigmoid')\n",
    "])\n",
    "\n",
    "model.compile(optimizer='adam', \n",
    "              loss='sparse_categorical_crossentropy',\n",
    "              metrics=['accuracy'])\n",
    "\n",
    "model.fit(X_train, y_train, epochs=100)"
   ]
  },
  {
   "cell_type": "code",
   "execution_count": 36,
   "metadata": {},
   "outputs": [
    {
     "name": "stdout",
     "output_type": "stream",
     "text": [
      "16/16 [==============================] - 0s 3ms/step - loss: 0.4807 - accuracy: 0.8282\n"
     ]
    },
    {
     "data": {
      "text/plain": [
       "[0.4806881546974182, 0.828157365322113]"
      ]
     },
     "execution_count": 36,
     "metadata": {},
     "output_type": "execute_result"
    }
   ],
   "source": [
    "model.evaluate(X_test, y_test)"
   ]
  },
  {
   "cell_type": "code",
   "execution_count": 53,
   "metadata": {},
   "outputs": [
    {
     "data": {
      "text/plain": [
       "2"
      ]
     },
     "execution_count": 53,
     "metadata": {},
     "output_type": "execute_result"
    }
   ],
   "source": [
    "y_test[8]"
   ]
  },
  {
   "cell_type": "code",
   "execution_count": 39,
   "metadata": {},
   "outputs": [
    {
     "name": "stdout",
     "output_type": "stream",
     "text": [
      "16/16 [==============================] - 0s 3ms/step\n"
     ]
    }
   ],
   "source": [
    "pred = model.predict(X_test)"
   ]
  },
  {
   "cell_type": "code",
   "execution_count": 40,
   "metadata": {},
   "outputs": [
    {
     "data": {
      "text/plain": [
       "array([4.8067456e-01, 7.9786986e-01, 4.6840638e-01, 8.6922964e-06,\n",
       "       9.6952450e-01], dtype=float32)"
      ]
     },
     "execution_count": 40,
     "metadata": {},
     "output_type": "execute_result"
    }
   ],
   "source": [
    "pred[0]"
   ]
  },
  {
   "cell_type": "code",
   "execution_count": 55,
   "metadata": {},
   "outputs": [],
   "source": [
    "y_pred  = [np.argmax(i) for i in pred]"
   ]
  },
  {
   "cell_type": "code",
   "execution_count": 56,
   "metadata": {},
   "outputs": [],
   "source": [
    "import math\n",
    "cm = tf.math.confusion_matrix(labels=y_test, predictions=y_pred)"
   ]
  },
  {
   "cell_type": "code",
   "execution_count": 59,
   "metadata": {},
   "outputs": [
    {
     "data": {
      "text/plain": [
       "<Axes: >"
      ]
     },
     "execution_count": 59,
     "metadata": {},
     "output_type": "execute_result"
    },
    {
     "data": {
      "image/png": "[encoded data removed]",
      "text/plain": [
       "<Figure size 640x480 with 2 Axes>"
      ]
     },
     "metadata": {},
     "output_type": "display_data"
    }
   ],
   "source": [
    "sns.heatmap(cm, annot=True, fmt='d')"
   ]
  }
 ],
 "metadata": {
  "kernelspec": {
   "display_name": "Python 3",
   "language": "python",
   "name": "python3"
  },
  "language_info": {
   "codemirror_mode": {
    "name": "ipython",
    "version": 3
   },
   "file_extension": ".py",
   "mimetype": "text/x-python",
   "name": "python",
   "nbconvert_exporter": "python",
   "pygments_lexer": "ipython3",
   "version": "3.10.5"
  },
  "orig_nbformat": 4
 },
 "nbformat": 4,
 "nbformat_minor": 2
}
